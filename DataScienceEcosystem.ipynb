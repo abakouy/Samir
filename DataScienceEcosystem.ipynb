{
 "cells": [
  {
   "cell_type": "markdown",
   "id": "e16ecf5d-6645-494e-b983-3a41a1664308",
   "metadata": {},
   "source": [
    "# Data Science Tools and Ecosystem"
   ]
  },
  {
   "cell_type": "markdown",
   "id": "a0244bba-47c5-4e94-9d28-0be90a521159",
   "metadata": {},
   "source": [
    "#### In this notebook, Data Science Tools and Ecosystem are summarized"
   ]
  },
  {
   "cell_type": "markdown",
   "id": "6c0fa01d-64fd-472e-95b0-3a6c7a14916d",
   "metadata": {},
   "source": [
    "## Some of the popular languages that Data Scientists use are:\n",
    "* R language\n",
    "* Python\n",
    "* Javascript"
   ]
  },
  {
   "cell_type": "markdown",
   "id": "0f0e1574-991c-48b2-a144-fc46ef6b7c46",
   "metadata": {},
   "source": [
    "## Some of the commonly used libraries used by Data Scientists include:\n",
    "* NumPy\n",
    "* Pandas\n",
    "* Matplotlib\n",
    "* TensorFlow"
   ]
  },
  {
   "cell_type": "markdown",
   "id": "f82238ec-5b6e-494e-abce-60e9465bef6e",
   "metadata": {},
   "source": [
    "# **Objectives:**\n",
    "* List popular languages for Data Science\n",
    "* Data Science Tools\n",
    "* Initiat Github\n",
    "* Initiat Rstudio\n"
   ]
  },
  {
   "cell_type": "markdown",
   "id": "36d06227-6eb5-4ad3-9733-9f98423fbd4e",
   "metadata": {},
   "source": [
    "| data Science Tools:|\n",
    "| ------ |\n",
    "| Python |\n",
    "| R |\n",
    "| Jupyter Notebook |\n",
    "\n"
   ]
  },
  {
   "cell_type": "markdown",
   "id": "33447d92-d503-4dfc-953f-1761355202dd",
   "metadata": {},
   "source": [
    "### Below are a few examples of evaluating arithmetic expressions in Python:\n"
   ]
  },
  {
   "cell_type": "code",
   "execution_count": 2,
   "id": "2b49e0fa-5b48-4732-819a-a2bbfe93668c",
   "metadata": {},
   "outputs": [
    {
     "name": "stdout",
     "output_type": "stream",
     "text": [
      "17\n"
     ]
    }
   ],
   "source": [
    "print((3*4)+5)\n",
    "# This a simple arithmetic expression to mutiply then add integers"
   ]
  },
  {
   "cell_type": "code",
   "execution_count": 3,
   "id": "c7152815-6a52-43fd-bc33-567589b0ab4c",
   "metadata": {},
   "outputs": [
    {
     "name": "stdout",
     "output_type": "stream",
     "text": [
      "3.3333333333333335\n"
     ]
    }
   ],
   "source": [
    "#This will convert 200 minutes to hours by diving by 60\n",
    "print (200/60)"
   ]
  },
  {
   "cell_type": "markdown",
   "id": "c77e4410-dcca-472c-ac95-1a77f83f520b",
   "metadata": {},
   "source": [
    "## Author :\n",
    "\n",
    "* ABAKOUY SAMIR"
   ]
  },
  {
   "cell_type": "code",
   "execution_count": null,
   "id": "0d1d8bd1-7a69-4e44-8c1c-6dc21f348144",
   "metadata": {},
   "outputs": [],
   "source": []
  }
 ],
 "metadata": {
  "kernelspec": {
   "display_name": "Python 3 (ipykernel)",
   "language": "python",
   "name": "python3"
  },
  "language_info": {
   "codemirror_mode": {
    "name": "ipython",
    "version": 3
   },
   "file_extension": ".py",
   "mimetype": "text/x-python",
   "name": "python",
   "nbconvert_exporter": "python",
   "pygments_lexer": "ipython3",
   "version": "3.10.9"
  }
 },
 "nbformat": 4,
 "nbformat_minor": 5
}
